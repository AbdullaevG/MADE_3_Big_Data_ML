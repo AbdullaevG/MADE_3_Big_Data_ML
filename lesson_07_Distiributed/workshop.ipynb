{
 "cells": [
  {
   "cell_type": "code",
   "execution_count": 1,
   "id": "460cf656",
   "metadata": {},
   "outputs": [
    {
     "data": {
      "text/plain": [
       "Intitializing Scala interpreter ..."
      ]
     },
     "metadata": {},
     "output_type": "display_data"
    },
    {
     "data": {
      "text/plain": [
       "Spark Web UI available at http://Amir.mshome.net:4041\n",
       "SparkContext available as 'sc' (version = 3.1.2, master = local[*], app id = local-1690872894789)\n",
       "SparkSession available as 'spark'\n"
      ]
     },
     "metadata": {},
     "output_type": "display_data"
    },
    {
     "name": "stdout",
     "output_type": "stream",
     "text": [
      "Hello Scala\n"
     ]
    }
   ],
   "source": [
    "println(\"Hello Scala\")"
   ]
  },
  {
   "cell_type": "code",
   "execution_count": 43,
   "id": "2f7d9bde",
   "metadata": {},
   "outputs": [
    {
     "data": {
      "text/plain": [
       "import breeze.linalg.{DenseMatrix, DenseVector, linspace, argmax}\r\n"
      ]
     },
     "execution_count": 43,
     "metadata": {},
     "output_type": "execute_result"
    }
   ],
   "source": [
    "import breeze.linalg.{DenseMatrix,\n",
    "                      DenseVector,\n",
    "                      linspace,\n",
    "                      argmax}"
   ]
  },
  {
   "cell_type": "code",
   "execution_count": 4,
   "id": "d95e2fbb",
   "metadata": {},
   "outputs": [
    {
     "name": "stdout",
     "output_type": "stream",
     "text": [
      "DenseVector(0.0, 0.0, 0.0, 0.0, 0.0)\n"
     ]
    }
   ],
   "source": [
    "println(DenseVector.zeros[Double](size = 5))\n"
   ]
  },
  {
   "cell_type": "code",
   "execution_count": 5,
   "id": "6ff32a67",
   "metadata": {},
   "outputs": [
    {
     "name": "stdout",
     "output_type": "stream",
     "text": [
      "0.0  0.0  0.0  0.0  0.0  \n",
      "0.0  0.0  0.0  0.0  0.0  \n",
      "0.0  0.0  0.0  0.0  0.0  \n"
     ]
    }
   ],
   "source": [
    "println(DenseMatrix.zeros[Double](3, 5))"
   ]
  },
  {
   "cell_type": "code",
   "execution_count": 6,
   "id": "02bd1010",
   "metadata": {},
   "outputs": [
    {
     "name": "stdout",
     "output_type": "stream",
     "text": [
      "1.0  0.5  2.0  \n",
      "4.1  5.4  0.1  \n"
     ]
    }
   ],
   "source": [
    "println(DenseMatrix((1.0, 0.5, 2.0), (4.1, 5.4, 0.1)))"
   ]
  },
  {
   "cell_type": "code",
   "execution_count": 7,
   "id": "bdafc45f",
   "metadata": {},
   "outputs": [
    {
     "name": "stdout",
     "output_type": "stream",
     "text": [
      "DenseVector(2.0, 3.0, 4.0, 5.0, 6.0, 7.0)\n"
     ]
    }
   ],
   "source": [
    "println(linspace(2, 7, 6))"
   ]
  },
  {
   "cell_type": "code",
   "execution_count": 8,
   "id": "ccabcac0",
   "metadata": {},
   "outputs": [
    {
     "name": "stdout",
     "output_type": "stream",
     "text": [
      "0  1  \n",
      "1  2  \n",
      "2  3  \n"
     ]
    }
   ],
   "source": [
    "println(DenseMatrix.tabulate(3, 2){case (i, j) => i + j})"
   ]
  },
  {
   "cell_type": "code",
   "execution_count": 10,
   "id": "206bb63e",
   "metadata": {},
   "outputs": [
    {
     "data": {
      "text/plain": [
       "m: breeze.linalg.DenseMatrix[Int] =\r\n",
       "0  -1  -2\r\n",
       "1  0   -1\r\n",
       "2  1   0\r\n"
      ]
     },
     "execution_count": 10,
     "metadata": {},
     "output_type": "execute_result"
    }
   ],
   "source": [
    "val m = DenseMatrix.tabulate(3, 3){case (i, j) => i - j}"
   ]
  },
  {
   "cell_type": "code",
   "execution_count": 11,
   "id": "273df0c9",
   "metadata": {},
   "outputs": [
    {
     "data": {
      "text/plain": [
       "cat: breeze.linalg.DenseMatrix[Int] =\r\n",
       "-1  -2\r\n",
       "0   -1\r\n",
       "1   0\r\n"
      ]
     },
     "execution_count": 11,
     "metadata": {},
     "output_type": "execute_result"
    }
   ],
   "source": [
    "val cat = m(::, 1 to 2)"
   ]
  },
  {
   "cell_type": "code",
   "execution_count": 13,
   "id": "6eece1fa",
   "metadata": {},
   "outputs": [
    {
     "data": {
      "text/plain": [
       "e: Int = 1\r\n"
      ]
     },
     "execution_count": 13,
     "metadata": {},
     "output_type": "execute_result"
    }
   ],
   "source": [
    "val e = m(-1, 1)"
   ]
  },
  {
   "cell_type": "code",
   "execution_count": 15,
   "id": "e79e4b27",
   "metadata": {},
   "outputs": [
    {
     "data": {
      "text/plain": [
       "v: breeze.linalg.DenseVector[Double] = DenseVector(1.0, 2.0, 3.0)\r\n",
       "A: breeze.linalg.DenseMatrix[Double] =\r\n",
       "1.0  2.0  3.0\r\n",
       "4.0  5.0  6.0\r\n"
      ]
     },
     "execution_count": 15,
     "metadata": {},
     "output_type": "execute_result"
    }
   ],
   "source": [
    "val v = DenseVector(1.0, 2.0, 3.0)\n",
    "val A = DenseMatrix((1.0, 2.0, 3.0),\n",
    "                    (4.0, 5.0, 6.0))"
   ]
  },
  {
   "cell_type": "code",
   "execution_count": 16,
   "id": "a2e61e99",
   "metadata": {},
   "outputs": [
    {
     "name": "stdout",
     "output_type": "stream",
     "text": [
      "14.0\n"
     ]
    }
   ],
   "source": [
    "println(v dot v)"
   ]
  },
  {
   "cell_type": "code",
   "execution_count": 17,
   "id": "c64a3eca",
   "metadata": {},
   "outputs": [
    {
     "name": "stdout",
     "output_type": "stream",
     "text": [
      "14.0\n"
     ]
    }
   ],
   "source": [
    "println(v.t * v)"
   ]
  },
  {
   "cell_type": "code",
   "execution_count": 18,
   "id": "2f0ab9c7",
   "metadata": {},
   "outputs": [
    {
     "name": "stdout",
     "output_type": "stream",
     "text": [
      "14.0  32.0  \n",
      "32.0  77.0  \n"
     ]
    }
   ],
   "source": [
    "println(A * A.t)"
   ]
  },
  {
   "cell_type": "code",
   "execution_count": 19,
   "id": "591e5bf9",
   "metadata": {},
   "outputs": [
    {
     "data": {
      "text/plain": [
       "v: breeze.linalg.DenseVector[Double] = DenseVector(1.0, 2.0, 3.0)\r\n"
      ]
     },
     "execution_count": 19,
     "metadata": {},
     "output_type": "execute_result"
    }
   ],
   "source": [
    "val v = DenseVector(1.0, 2.0, 3.0)"
   ]
  },
  {
   "cell_type": "code",
   "execution_count": 20,
   "id": "c9ee1397",
   "metadata": {},
   "outputs": [
    {
     "name": "stdout",
     "output_type": "stream",
     "text": [
      "DenseVector(1.0, 4.0, 9.0)\n"
     ]
    }
   ],
   "source": [
    "println(v *:* v)"
   ]
  },
  {
   "cell_type": "code",
   "execution_count": 21,
   "id": "654f9052",
   "metadata": {},
   "outputs": [
    {
     "name": "stdout",
     "output_type": "stream",
     "text": [
      "DenseVector(1.0, 4.0, 9.0)\n"
     ]
    }
   ],
   "source": [
    "println(v*v)"
   ]
  },
  {
   "cell_type": "code",
   "execution_count": 22,
   "id": "ab1c5dfc",
   "metadata": {},
   "outputs": [
    {
     "name": "stdout",
     "output_type": "stream",
     "text": [
      "DenseVector(2.0, 4.0, 6.0)\n"
     ]
    }
   ],
   "source": [
    "v :+= v\n",
    "println(v)"
   ]
  },
  {
   "cell_type": "code",
   "execution_count": 23,
   "id": "5b03a94d",
   "metadata": {},
   "outputs": [
    {
     "name": "stdout",
     "output_type": "stream",
     "text": [
      "DenseVector(6.0, 12.0, 18.0)\n",
      "2\n"
     ]
    }
   ],
   "source": [
    "v :*= 3.0\n",
    "println(v)\n",
    "println(argmax(v))"
   ]
  },
  {
   "cell_type": "code",
   "execution_count": 24,
   "id": "1f72c4ca",
   "metadata": {},
   "outputs": [
    {
     "name": "stdout",
     "output_type": "stream",
     "text": [
      "BitVector(0, 1, 2)\n"
     ]
    }
   ],
   "source": [
    "println(v <:< (v +:+ v))"
   ]
  },
  {
   "cell_type": "code",
   "execution_count": 64,
   "id": "c6c38f48",
   "metadata": {},
   "outputs": [
    {
     "data": {
      "text/plain": [
       "A: breeze.linalg.DenseMatrix[Double] =\r\n",
       "1.0  2.0  3.0\r\n",
       "1.0  5.0  2.0\r\n"
      ]
     },
     "execution_count": 64,
     "metadata": {},
     "output_type": "execute_result"
    }
   ],
   "source": [
    "val A = DenseMatrix((1.0, 2.0, 3.0), (1.0, 5.0, 2.0))"
   ]
  },
  {
   "cell_type": "markdown",
   "id": "b8827381",
   "metadata": {},
   "source": [
    "### Агрегаты"
   ]
  },
  {
   "cell_type": "code",
   "execution_count": 3,
   "id": "5cb2c199",
   "metadata": {},
   "outputs": [
    {
     "data": {
      "text/plain": [
       "import breeze.linalg.{sum, trace, accumulate}\r\n",
       "import breeze.stats.mean\r\n"
      ]
     },
     "execution_count": 3,
     "metadata": {},
     "output_type": "execute_result"
    }
   ],
   "source": [
    "import breeze.linalg.{sum, trace, accumulate}\n",
    "import breeze.stats.mean"
   ]
  },
  {
   "cell_type": "code",
   "execution_count": 66,
   "id": "32fe962a",
   "metadata": {},
   "outputs": [
    {
     "name": "stdout",
     "output_type": "stream",
     "text": [
      "14.0\n"
     ]
    }
   ],
   "source": [
    "println(sum(A))"
   ]
  },
  {
   "cell_type": "code",
   "execution_count": 67,
   "id": "4101c2d6",
   "metadata": {},
   "outputs": [
    {
     "name": "stdout",
     "output_type": "stream",
     "text": [
      "6.0\n"
     ]
    }
   ],
   "source": [
    "println(trace(A(::, 0 to 1)))"
   ]
  },
  {
   "cell_type": "code",
   "execution_count": 80,
   "id": "053e34db",
   "metadata": {},
   "outputs": [
    {
     "name": "stdout",
     "output_type": "stream",
     "text": [
      "DenseVector(1.0, 1.0, 2.0, 5.0, 3.0, 2.0)\n"
     ]
    },
    {
     "data": {
      "text/plain": [
       "f: breeze.linalg.DenseVector[Double] = DenseVector(1.0, 1.0, 2.0, 5.0, 3.0, 2.0)\r\n"
      ]
     },
     "execution_count": 80,
     "metadata": {},
     "output_type": "execute_result"
    }
   ],
   "source": [
    "val f = A.toDenseVector\n",
    "println(f)"
   ]
  },
  {
   "cell_type": "code",
   "execution_count": 81,
   "id": "97c0aca6",
   "metadata": {},
   "outputs": [
    {
     "data": {
      "text/plain": [
       "f: breeze.linalg.DenseVector[Double] = DenseVector(1.0, 1.0, 2.0, 5.0, 3.0, 2.0)\r\n",
       "res46: breeze.linalg.DenseVector[Double] = DenseVector(1.0, 2.0, 4.0, 9.0, 12.0, 14.0)\r\n"
      ]
     },
     "execution_count": 81,
     "metadata": {},
     "output_type": "execute_result"
    }
   ],
   "source": [
    "val f = DenseVector(1.0, 1.0, 2.0, 5.0, 3.0, 2.0)\n",
    "accumulate(f)"
   ]
  },
  {
   "cell_type": "markdown",
   "id": "cffdc8a5",
   "metadata": {},
   "source": [
    "### Линейная алгебра"
   ]
  },
  {
   "cell_type": "code",
   "execution_count": 28,
   "id": "90a35dfd",
   "metadata": {},
   "outputs": [
    {
     "data": {
      "text/plain": [
       "import breeze.linalg.{det, inv, eig, eigSym}\r\n"
      ]
     },
     "execution_count": 28,
     "metadata": {},
     "output_type": "execute_result"
    }
   ],
   "source": [
    "import breeze.linalg.{det, inv, eig, eigSym}"
   ]
  },
  {
   "cell_type": "code",
   "execution_count": 24,
   "id": "af3757e5",
   "metadata": {},
   "outputs": [
    {
     "data": {
      "text/plain": [
       "A: breeze.linalg.DenseMatrix[Double] =\r\n",
       "1.0   2.0\r\n",
       "-1.0  2.0\r\n",
       "b: breeze.linalg.DenseMatrix[Double] =\r\n",
       "5.0\r\n",
       "-1.0\r\n"
      ]
     },
     "execution_count": 24,
     "metadata": {},
     "output_type": "execute_result"
    }
   ],
   "source": [
    "val A = DenseMatrix((1.0, 2.0), (-1.0, 2.0))\n",
    "val b = A * DenseMatrix(3.0, 1.0)"
   ]
  },
  {
   "cell_type": "code",
   "execution_count": 25,
   "id": "d27ca015",
   "metadata": {},
   "outputs": [
    {
     "name": "stdout",
     "output_type": "stream",
     "text": [
      "(2,2)\n"
     ]
    }
   ],
   "source": [
    "println(A.cols, A.rows)"
   ]
  },
  {
   "cell_type": "code",
   "execution_count": 26,
   "id": "0a527de3",
   "metadata": {},
   "outputs": [
    {
     "name": "stdout",
     "output_type": "stream",
     "text": [
      "4.0\n"
     ]
    }
   ],
   "source": [
    "println(det(A))"
   ]
  },
  {
   "cell_type": "code",
   "execution_count": 27,
   "id": "8537deaf",
   "metadata": {},
   "outputs": [
    {
     "name": "stdout",
     "output_type": "stream",
     "text": [
      "0.5   -0.5  \n",
      "0.25  0.25  \n"
     ]
    }
   ],
   "source": [
    "println(inv(A))"
   ]
  },
  {
   "cell_type": "code",
   "execution_count": 29,
   "id": "443767f9",
   "metadata": {},
   "outputs": [
    {
     "name": "stdout",
     "output_type": "stream",
     "text": [
      "Eig(DenseVector(1.4999999999999998, 1.4999999999999998),DenseVector(1.3228756555322954, -1.3228756555322954),0.816496580927726   0.0                 \n",
      "0.2041241452319315  0.5400617248673217  )\n"
     ]
    }
   ],
   "source": [
    "println(eig(A))"
   ]
  },
  {
   "cell_type": "markdown",
   "id": "a0eee08a",
   "metadata": {},
   "source": [
    "### Оптимизация"
   ]
  },
  {
   "cell_type": "code",
   "execution_count": 48,
   "id": "a1795803",
   "metadata": {},
   "outputs": [
    {
     "data": {
      "text/plain": [
       "import breeze.optimize.{DiffFunction, LBFGS}\r\n"
      ]
     },
     "execution_count": 48,
     "metadata": {},
     "output_type": "execute_result"
    }
   ],
   "source": [
    "import breeze.optimize.{DiffFunction, LBFGS}"
   ]
  },
  {
   "cell_type": "code",
   "execution_count": 37,
   "id": "e305407e",
   "metadata": {},
   "outputs": [
    {
     "data": {
      "text/plain": [
       "X: breeze.linalg.DenseMatrix[Double] =\r\n",
       "0.6417337778276477    0.763417731693683      0.6219221641122954\r\n",
       "0.8822895634744747    0.4664982403136342     0.9520618862671422\r\n",
       "0.04742543732545301   0.2511217541624693     0.7879175109526473\r\n",
       "0.5897848255095979    0.054093331377244036   0.8133952780929969\r\n",
       "0.28224246738678094   0.2069615165298575     0.362837025241155\r\n",
       "0.19768707018980436   0.4111016658918656     0.9839263999555736\r\n",
       "0.900508506134275     0.562489256763407      0.410139638982298\r\n",
       "0.7754362047353569    0.21504724614321336    0.7147907239113243\r\n",
       "0.928021794803892     0.1795448148121055     0.6309256208986298\r\n",
       "0.014775307674229188  0.8195907311481327     0.7302281364767158\r\n",
       "0.8882651002949578    0.8281695253754027     0.4902115762158983\r\n",
       "0.5608471316162147    0.5602038546499881    ...\r\n"
      ]
     },
     "execution_count": 37,
     "metadata": {},
     "output_type": "execute_result"
    }
   ],
   "source": [
    "val X = DenseMatrix.rand(2000, 3)\n",
    "val w = DenseVector(0.5, -0.1, 0.2)\n",
    "val y = X * w"
   ]
  },
  {
   "cell_type": "code",
   "execution_count": 67,
   "id": "ffd5584a",
   "metadata": {},
   "outputs": [
    {
     "ename": "<console>",
     "evalue": "46: error: overriding method calculate in trait StochasticDiffFunction of type (x: breeze.linalg.DenseVector[Double])(Double, breeze.linalg.DenseVector[Double]);\r",
     "output_type": "error",
     "traceback": [
      "<console>:46: error: overriding method calculate in trait StochasticDiffFunction of type (x: breeze.linalg.DenseVector[Double])(Double, breeze.linalg.DenseVector[Double]);\r",
      " method calculate has incompatible type\r",
      "           def calculate(w: DenseVector[Double]){\r",
      "               ^\r",
      ""
     ]
    }
   ],
   "source": [
    "val X = DenseMatrix.rand(2000, 3)\n",
    "val y = X * DenseVector(0.5, -0.1, 0.2)\n",
    "\n",
    "val J = new DiffFunction[DenseVector[Double]]{\n",
    "    def calculate(w: DenseVector[Double]){\n",
    "        val error = X * w - y\n",
    "        val loss = error.sum / (2.0 * X.rows)\n",
    "        \n",
    "        val grad = (error.t * X) /:/ (2.0 * X.rows)\n",
    "        (loss, grad.t)\n",
    "    }\n",
    "}\n",
    "val optimizer = new LBFGS[DenseVector[Double]]()\n",
    "println(optimizer.minimize(J, DenseVector(0.0, 0.0, 0.0)))\n"
   ]
  },
  {
   "cell_type": "code",
   "execution_count": 57,
   "id": "661ceb9d",
   "metadata": {},
   "outputs": [
    {
     "data": {
      "text/plain": [
       "X: breeze.linalg.DenseMatrix[Double] =\r\n",
       "0.3544876793137586     0.7917271698371662    0.9366112630522341\r\n",
       "0.05765364871335743    0.8378279573615759    0.5040754711421769\r\n",
       "0.5673000984905565     0.02231751071994248   0.5586560383384376\r\n",
       "0.07421250231240584    0.07950602610157254   0.38520162014419124\r\n",
       "0.210738812599373      0.7911497227184434    0.726199783726434\r\n",
       "3.5331339235034065E-4  0.28900761916348916   0.9364443799321114\r\n",
       "0.3854409574062121     0.5932329837206876    0.3443596302783263\r\n",
       "0.3269567982229389     0.9923877748628593    0.6790732711312215\r\n",
       "0.8344542054326469     0.186964952355136     0.1667179494290496\r\n",
       "0.00998712262118695    0.5155610683098382    0.15327280500665497\r\n",
       "0.6714548226538066     0.9413823786636248    0.6350274128766562\r\n",
       "0.9729893606648312     0.855301475979162 ...\r\n"
      ]
     },
     "execution_count": 57,
     "metadata": {},
     "output_type": "execute_result"
    }
   ],
   "source": [
    "val X = DenseMatrix.rand(2000, 3)\n",
    "val y = X * DenseVector(0.5, -0.1, 0.2)\n",
    "val w = DenseVector(0.3, -0.09, 0.13)"
   ]
  },
  {
   "cell_type": "code",
   "execution_count": 59,
   "id": "db36a7f8",
   "metadata": {},
   "outputs": [
    {
     "data": {
      "text/plain": [
       "er: breeze.linalg.DenseVector[Double] = DenseVector(-0.12854305257803644, -0.0384377331490081, -0.1523427672746025, -0.04101155361155884, -0.08507025015354054, -0.062731693082083, -0.09526103576351838, -0.1030026108751447, -0.17669144802301157, -0.007570910191604847, -0.169329059645491, -0.21823367330506988, -0.07846631872356666, -0.18672867404923782, -0.11981157771238013, -0.1284003764837872, -0.12069724757914463, -0.20075512691782693, -0.08078386479052693, -0.022973766589074615, -0.0930574823572699, -0.18512392780359627, -0.22018243098302082, -0.23529280479089654, -0.06693392744204284, -0.16212249381787075, -0.2022785123952901, -0.24706879752768007, -0.044009662486726324, -0.1767006811085267, -0.12791503513804028, -0.06216835935109728, -0.11327357150842426, -0.10763365367812107, -0.13...\r\n"
      ]
     },
     "execution_count": 59,
     "metadata": {},
     "output_type": "execute_result"
    }
   ],
   "source": [
    "val er = X * w - y"
   ]
  },
  {
   "cell_type": "code",
   "execution_count": 86,
   "id": "434a403b",
   "metadata": {},
   "outputs": [
    {
     "data": {
      "text/plain": [
       "X: breeze.linalg.DenseMatrix[Double] =\r\n",
       "0.9526662921657094    0.21849759433620242   0.5222095773119508\r\n",
       "0.7425001972652046    0.1588765276976849    0.5322795024995077\r\n",
       "0.14363155141348827   0.9043536315095737    0.993008592967402\r\n",
       "0.038879276651924144  0.23458342527897558   0.4271014277192131\r\n",
       "0.9745888201459583    0.43601042308593985   0.3685944060038657\r\n",
       "0.2941506719757119    0.6932259289769347    0.8805187696456924\r\n",
       "0.05118270205624187   0.6773681385784418    0.20827700999889953\r\n",
       "0.6796259407415886    0.8332431113795717    0.6637354864566847\r\n",
       "0.2743186587942035    0.9637082461250908    0.9486989682741165\r\n",
       "0.5035465492760978    0.4016475362119696    0.03578880836577558\r\n",
       "0.20713140519393125   0.9692240835030315    0.5145937019980475\r\n",
       "0.36439332616602327   0.7067660877280135    0.675720...\r\n"
      ]
     },
     "execution_count": 86,
     "metadata": {},
     "output_type": "execute_result"
    }
   ],
   "source": [
    "val X = DenseMatrix.rand(2000, 3)\n",
    "val y = X * DenseVector(0.5, -0.1, 0.2)\n",
    "val Data = DenseMatrix.horzcat(X, y.asDenseMatrix.t)"
   ]
  },
  {
   "cell_type": "code",
   "execution_count": 88,
   "id": "354b354c",
   "metadata": {},
   "outputs": [
    {
     "ename": "<console>",
     "evalue": "40: error: not found: value *\r",
     "output_type": "error",
     "traceback": [
      "<console>:40: error: not found: value *\r",
      "       val df = Data(*,::).iterator.map(x=>(x(0), x(1), x(2), x(4))).toSeq.toDF(\"x1\", \"x2\", \"x3\", \"y\")\r",
      "                     ^\r",
      ""
     ]
    }
   ],
   "source": [
    "val df = Data(*,::).iterator.map(x=>(x(0), x(1), x(2), x(4))).toSeq.toDF(\"x1\", \"x2\", \"x3\", \"y\")"
   ]
  },
  {
   "cell_type": "code",
   "execution_count": 90,
   "id": "7eca6392",
   "metadata": {},
   "outputs": [
    {
     "name": "stdout",
     "output_type": "stream",
     "text": [
      "(4,2000)\n"
     ]
    }
   ],
   "source": [
    "println(Data.cols, Data.rows)"
   ]
  },
  {
   "cell_type": "code",
   "execution_count": 101,
   "id": "bc902326",
   "metadata": {},
   "outputs": [
    {
     "data": {
      "text/plain": [
       "res36: breeze.linalg.DenseVector[Double] = DenseVector(0.5222095773119508, 0.5322795024995077, 0.993008592967402, 0.4271014277192131, 0.3685944060038657, 0.8805187696456924, 0.20827700999889953, 0.6637354864566847, 0.9486989682741165, 0.03578880836577558, 0.5145937019980475, 0.6757200481829255, 0.9026172354788897, 0.9980880479128651, 0.9092835341116461, 0.720467612745419, 0.7428927661370186, 0.026203338533087983, 0.13140645885302438, 0.8591835637443654, 0.4104106073227105, 0.7197587178571074, 0.6879070469530624, 0.29725023177159815, 0.9260481718886087, 0.0367866302365738, 0.6874709977071822, 0.31965620284435126, 0.5829381660611128, 0.5297591397797732, 0.8331802501434207, 0.6750110087495527, 0.0946361994412177, 0.9569507851963663, 0.49764423999522767, 0.6470903840013551, 0.27470643503876...\r\n"
      ]
     },
     "execution_count": 101,
     "metadata": {},
     "output_type": "execute_result"
    }
   ],
   "source": [
    "Data(::, 2)"
   ]
  },
  {
   "cell_type": "code",
   "execution_count": 102,
   "id": "def1a811",
   "metadata": {},
   "outputs": [
    {
     "data": {
      "text/plain": [
       "x: breeze.linalg.DenseMatrix[Double] =\r\n",
       "0.5636007325111048    0.00842707724326508  0.4202865754072478\r\n",
       "0.1983854323955221    0.3396522550709844   0.030458299794394073\r\n",
       "0.54982961828727      0.476597328895618    0.4927071814513233\r\n",
       "0.028035402654271735  0.08178703558712286  0.08665519186859005\r\n"
      ]
     },
     "execution_count": 102,
     "metadata": {},
     "output_type": "execute_result"
    }
   ],
   "source": [
    "val x = DenseMatrix.rand[Double](4,3)"
   ]
  },
  {
   "cell_type": "code",
   "execution_count": 103,
   "id": "eb2a69b6",
   "metadata": {},
   "outputs": [
    {
     "ename": "<console>",
     "evalue": "42: error: not found: value *\r",
     "output_type": "error",
     "traceback": [
      "<console>:42: error: not found: value *\r",
      "       x(*, ::).map(x => 3 * 4)\r",
      "         ^\r",
      ""
     ]
    }
   ],
   "source": [
    "x(*, ::).map(x => 3 * 4)"
   ]
  },
  {
   "cell_type": "code",
   "execution_count": null,
   "id": "9ef7430d",
   "metadata": {},
   "outputs": [],
   "source": []
  }
 ],
 "metadata": {
  "kernelspec": {
   "display_name": "spylon-kernel",
   "language": "scala",
   "name": "spylon-kernel"
  },
  "language_info": {
   "codemirror_mode": "text/x-scala",
   "file_extension": ".scala",
   "help_links": [
    {
     "text": "MetaKernel Magics",
     "url": "https://metakernel.readthedocs.io/en/latest/source/README.html"
    }
   ],
   "mimetype": "text/x-scala",
   "name": "scala",
   "pygments_lexer": "scala",
   "version": "0.4.1"
  }
 },
 "nbformat": 4,
 "nbformat_minor": 5
}
