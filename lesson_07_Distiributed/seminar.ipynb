﻿{
  "metadata": {
    "name": "BigDataML_07",
    "kernelspec": {
      "language": "scala",
      "name": "spark2-scala"
    },
    "language_info": {
      "codemirror_mode": "text/x-scala",
      "file_extension": ".scala",
      "mimetype": "text/x-scala",
      "name": "scala",
      "pygments_lexer": "scala"
    }
  },
  "nbformat": 4,
  "nbformat_minor": 2,
  "cells": [
    {
      "cell_type": "code",
      "execution_count": 0,
      "metadata": {
        "autoscroll": "auto"
      },
      "outputs": [],
      "source": "println(\"Hello Scala\")"
    },
    {
      "cell_type": "code",
      "execution_count": 1,
      "metadata": {
        "autoscroll": "auto"
      },
      "outputs": [],
      "source": "import breeze.linalg._\nimport breeze.numerics._"
    },
    {
      "cell_type": "code",
      "execution_count": 2,
      "metadata": {
        "autoscroll": "auto"
      },
      "outputs": [],
      "source": "println(DenseMatrix.zeros[Double](3, 5))\nprintln(DenseVector.fill(3){5.0})\nprintln(DenseMatrix((1.0, 0.5, 2.0), (4.1, 5.4, 0.1)))"
    },
    {
      "cell_type": "code",
      "execution_count": 3,
      "metadata": {
        "autoscroll": "auto"
      },
      "outputs": [],
      "source": "println(linspace(2, 7, 6))"
    },
    {
      "cell_type": "code",
      "execution_count": 4,
      "metadata": {
        "autoscroll": "auto"
      },
      "outputs": [],
      "source": "println(DenseMatrix.tabulate(3, 2){case (i, j) \u003d\u003e i+j})"
    },
    {
      "cell_type": "code",
      "execution_count": 5,
      "metadata": {
        "autoscroll": "auto"
      },
      "outputs": [],
      "source": "println(DenseMatrix.rand(2, 3))"
    },
    {
      "cell_type": "code",
      "execution_count": 6,
      "metadata": {
        "autoscroll": "auto"
      },
      "outputs": [],
      "source": "val m \u003d DenseMatrix.tabulate(3, 3){case (i, j) \u003d\u003e i - j}"
    },
    {
      "cell_type": "code",
      "execution_count": 7,
      "metadata": {
        "autoscroll": "auto"
      },
      "outputs": [],
      "source": "val cat \u003d m(::, 1 to 2)"
    },
    {
      "cell_type": "code",
      "execution_count": 8,
      "metadata": {
        "autoscroll": "auto"
      },
      "outputs": [],
      "source": "val e \u003d m(-1, 1)"
    },
    {
      "cell_type": "code",
      "execution_count": 9,
      "metadata": {
        "autoscroll": "auto"
      },
      "outputs": [],
      "source": "val v \u003d DenseVector(1.0, 2.0, 3.0)\r\nval A \u003d DenseMatrix((1.0, 2.0, 3.0),\r\n                    (4.0, 5.0, 6.0))"
    },
    {
      "cell_type": "code",
      "execution_count": 10,
      "metadata": {
        "autoscroll": "auto"
      },
      "outputs": [],
      "source": "println(v dot v)"
    },
    {
      "cell_type": "code",
      "execution_count": 11,
      "metadata": {
        "autoscroll": "auto"
      },
      "outputs": [],
      "source": "println(v.t * v)"
    },
    {
      "cell_type": "code",
      "execution_count": 12,
      "metadata": {
        "autoscroll": "auto"
      },
      "outputs": [],
      "source": "println(A*v)"
    },
    {
      "cell_type": "code",
      "execution_count": 13,
      "metadata": {
        "autoscroll": "auto"
      },
      "outputs": [],
      "source": "val v \u003d DenseVector(1.0, 2.0, 3.0)\nprintln(v *:* v)\nprintln(v*v)"
    },
    {
      "cell_type": "code",
      "execution_count": 14,
      "metadata": {
        "autoscroll": "auto"
      },
      "outputs": [],
      "source": "v :+\u003d v\r\nprintln(v)"
    },
    {
      "cell_type": "code",
      "execution_count": 15,
      "metadata": {
        "autoscroll": "auto"
      },
      "outputs": [],
      "source": "v :*\u003d 3.0\r\nprintln(v)\r\nprintln(argmax(v))"
    },
    {
      "cell_type": "code",
      "execution_count": 16,
      "metadata": {
        "autoscroll": "auto"
      },
      "outputs": [],
      "source": "println(v \u003c:\u003c (v +:+ v))"
    },
    {
      "cell_type": "code",
      "execution_count": 17,
      "metadata": {
        "autoscroll": "auto"
      },
      "outputs": [],
      "source": "val A \u003d DenseMatrix((1.0, 2.0, 3.0), (1.0, 5.0, 2.0))"
    },
    {
      "cell_type": "code",
      "execution_count": 18,
      "metadata": {
        "autoscroll": "auto"
      },
      "outputs": [],
      "source": "println(sum(A))\nprintln(trace(A(::, 0 to 1)))"
    },
    {
      "cell_type": "code",
      "execution_count": 19,
      "metadata": {
        "autoscroll": "auto"
      },
      "outputs": [],
      "source": "val f \u003d A.toDenseVector"
    },
    {
      "cell_type": "code",
      "execution_count": 20,
      "metadata": {
        "autoscroll": "auto"
      },
      "outputs": [],
      "source": "accumulate(f)"
    },
    {
      "cell_type": "code",
      "execution_count": 21,
      "metadata": {
        "autoscroll": "auto"
      },
      "outputs": [],
      "source": "val A \u003d DenseMatrix((1.0, 2.0), (-1.0, 2.0))\r\nval b \u003d A * DenseMatrix(3.0, 1.0)"
    },
    {
      "cell_type": "code",
      "execution_count": 22,
      "metadata": {
        "autoscroll": "auto"
      },
      "outputs": [],
      "source": "println(A\\b)"
    },
    {
      "cell_type": "code",
      "execution_count": 23,
      "metadata": {
        "autoscroll": "auto"
      },
      "outputs": [],
      "source": "println(det(A))"
    },
    {
      "cell_type": "code",
      "execution_count": 24,
      "metadata": {
        "autoscroll": "auto"
      },
      "outputs": [],
      "source": "println(inv(A))"
    },
    {
      "cell_type": "code",
      "execution_count": 25,
      "metadata": {
        "autoscroll": "auto"
      },
      "outputs": [],
      "source": "println(eig(A))"
    },
    {
      "cell_type": "code",
      "execution_count": 26,
      "metadata": {
        "autoscroll": "auto"
      },
      "outputs": [],
      "source": "import breeze.optimize.{DiffFunction, LBFGS}\n\n{\n    val X \u003d DenseMatrix.rand(2000, 3)\n    val y \u003d X * DenseVector(0.5, -0.1, 0.2)\n    \n    val J \u003d new DiffFunction[DenseVector[Double]] {\n        def calculate(w: DenseVector[Double]) \u003d {\n            val error \u003d X * w - y\n            val loss \u003d sum(error ^:^ 2.0) / (2.0 * X.rows)\n        \n            val grad \u003d (error.t * X) /:/ (2.0 * X.rows)\n            (loss, grad.t)\n        }\n    }\n    \n    val optimizer \u003d new LBFGS[DenseVector[Double]]()\n    println(optimizer.minimize(J, DenseVector(0.0, 0.0, 0.0)))\n}"
    },
    {
      "cell_type": "code",
      "execution_count": 27,
      "metadata": {
        "autoscroll": "auto"
      },
      "outputs": [],
      "source": "val X \u003d DenseMatrix.rand(2000, 3)\r\nval w \u003d DenseVector(0.5, -0.1, 0.2)\r\nval y \u003d X * w"
    },
    {
      "cell_type": "code",
      "execution_count": 28,
      "metadata": {
        "autoscroll": "auto"
      },
      "outputs": [],
      "source": "val Data \u003d DenseMatrix.horzcat(X, y.asDenseMatrix.t)"
    },
    {
      "cell_type": "code",
      "execution_count": 29,
      "metadata": {
        "autoscroll": "auto"
      },
      "outputs": [],
      "source": "println(\"Data shape: \", (Data.rows, Data.cols))"
    },
    {
      "cell_type": "code",
      "execution_count": 30,
      "metadata": {
        "autoscroll": "auto"
      },
      "outputs": [],
      "source": "val df \u003d Data(*, ::).iterator.map(x \u003d\u003e (x(0), x(1), x(2), x(3))).toSeq.toDF(\"x1\", \"x2\", \"x3\", \"y\")\n\ndf.show(2)"
    },
    {
      "cell_type": "code",
      "execution_count": 31,
      "metadata": {
        "autoscroll": "auto"
      },
      "outputs": [],
      "source": "import org.apache.spark.ml.Pipeline\nimport org.apache.spark.ml.feature.VectorAssembler\nimport org.apache.spark.ml.regression.{LinearRegression, LinearRegressionModel}"
    },
    {
      "cell_type": "code",
      "execution_count": 32,
      "metadata": {
        "autoscroll": "auto"
      },
      "outputs": [],
      "source": "val pipeline \u003d new Pipeline().setStages(Array(\n        new VectorAssembler()\n            .setInputCols(Array(\"x1\", \"x2\", \"x3\"))\n            .setOutputCol(\"features\"),\n        new LinearRegression().setLabelCol(\"y\")\n    ))\n    \nval model \u003d pipeline.fit(df)\n\nval w \u003d model.stages.last.asInstanceOf[LinearRegressionModel].coefficients"
    },
    {
      "cell_type": "code",
      "execution_count": 33,
      "metadata": {
        "autoscroll": "auto"
      },
      "outputs": [],
      "source": "val predictions \u003d model.transform(df)\npredictions.show(3)"
    },
    {
      "cell_type": "code",
      "execution_count": 34,
      "metadata": {
        "autoscroll": "auto"
      },
      "outputs": [],
      "source": "import org.apache.spark.ml.attribute.AttributeGroup\n\nAttributeGroup.fromStructField(predictions.schema(\"features\")).attributes.get.foreach(println)"
    }
  ]
}