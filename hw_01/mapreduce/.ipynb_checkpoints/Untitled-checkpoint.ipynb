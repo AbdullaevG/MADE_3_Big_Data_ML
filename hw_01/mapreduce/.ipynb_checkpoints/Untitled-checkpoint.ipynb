{
 "cells": [
  {
   "cell_type": "code",
   "execution_count": 1,
   "id": "fca61f10",
   "metadata": {},
   "outputs": [],
   "source": [
    "import re\n",
    "import numpy as np\n",
    "import pandas as pd"
   ]
  },
  {
   "cell_type": "code",
   "execution_count": 2,
   "id": "65122045",
   "metadata": {},
   "outputs": [
    {
     "data": {
      "text/plain": [
       "['How', 'are', 'you', 'I', 'm', 'fine', 'thanks']"
      ]
     },
     "execution_count": 2,
     "metadata": {},
     "output_type": "execute_result"
    }
   ],
   "source": [
    "# Delete all punctuations from line\n",
    "line = \"How are you? I'm fine, thanks.\"\n",
    "re.findall(r\"\\w+\", line)"
   ]
  },
  {
   "cell_type": "code",
   "execution_count": 40,
   "id": "65e2dbcf",
   "metadata": {},
   "outputs": [],
   "source": [
    "import csv\n",
    "file_name = \"dataset.csv\"\n",
    "with open(file_name, 'r', encoding='utf-8') as csv_file:\n",
    "    csv_reader = csv.DictReader(csv_file, delimiter=',')\n",
    "    price = []\n",
    "    for row in csv_reader:\n",
    "        price.append(row['price'])\n"
   ]
  },
  {
   "cell_type": "code",
   "execution_count": 17,
   "id": "5f2f1ad7",
   "metadata": {},
   "outputs": [],
   "source": [
    "def mean_std(file_path = file_name, feature = \"price\"):\n",
    "    df = pd.read_csv(file_name)\n",
    "    return np.mean(df[feature].values), np.std(df[feature].values)"
   ]
  },
  {
   "cell_type": "code",
   "execution_count": null,
   "id": "f3d34ff0",
   "metadata": {},
   "outputs": [],
   "source": []
  }
 ],
 "metadata": {
  "kernelspec": {
   "display_name": "Python 3",
   "language": "python",
   "name": "python3"
  },
  "language_info": {
   "codemirror_mode": {
    "name": "ipython",
    "version": 3
   },
   "file_extension": ".py",
   "mimetype": "text/x-python",
   "name": "python",
   "nbconvert_exporter": "python",
   "pygments_lexer": "ipython3",
   "version": "3.8.5"
  }
 },
 "nbformat": 4,
 "nbformat_minor": 5
}
