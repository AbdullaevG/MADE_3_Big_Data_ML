{
 "cells": [
  {
   "cell_type": "code",
   "execution_count": 2,
   "metadata": {},
   "outputs": [
    {
     "data": {
      "text/plain": [
       "'C:\\\\Users\\\\asus\\\\anaconda3\\\\lib\\\\site-packages\\\\pyspark'"
      ]
     },
     "execution_count": 2,
     "metadata": {},
     "output_type": "execute_result"
    }
   ],
   "source": [
    "import findspark\n",
    "findspark.init()\n",
    "findspark.find()"
   ]
  },
  {
   "cell_type": "code",
   "execution_count": 3,
   "metadata": {},
   "outputs": [
    {
     "data": {
      "text/html": [
       "\n",
       "        <div>\n",
       "            <p><b>SparkContext</b></p>\n",
       "\n",
       "            <p><a href=\"http://Amir:4040\">Spark UI</a></p>\n",
       "\n",
       "            <dl>\n",
       "              <dt>Version</dt>\n",
       "                <dd><code>v3.1.2</code></dd>\n",
       "              <dt>Master</dt>\n",
       "                <dd><code>local[1]</code></dd>\n",
       "              <dt>AppName</dt>\n",
       "                <dd><code>pyspark-shell</code></dd>\n",
       "            </dl>\n",
       "        </div>\n",
       "        "
      ],
      "text/plain": [
       "<SparkContext master=local[1] appName=pyspark-shell>"
      ]
     },
     "execution_count": 3,
     "metadata": {},
     "output_type": "execute_result"
    }
   ],
   "source": [
    "from pyspark import SparkContext \n",
    "sc = SparkContext(master=\"local[1]\")\n",
    "sc"
   ]
  },
  {
   "cell_type": "code",
   "execution_count": 4,
   "metadata": {},
   "outputs": [],
   "source": [
    "from pyspark import SQLContext\n",
    "sqlContext = SQLContext(sc)"
   ]
  },
  {
   "cell_type": "code",
   "execution_count": 5,
   "metadata": {},
   "outputs": [],
   "source": [
    "# Загружаем файл (файл заранее немного был изменен в Pandas, a именно удалены \\n, \"\" и другие знаки)\n",
    "df = sqlContext.read \\\n",
    "               .option(\"header\",True) \\\n",
    "               .option(\"multiline\", True) \\\n",
    "               .csv(\"new_toxic_comments2.csv\") "
   ]
  },
  {
   "cell_type": "code",
   "execution_count": 6,
   "metadata": {},
   "outputs": [
    {
     "name": "stdout",
     "output_type": "stream",
     "text": [
      "+----------------+--------------------+-----+------------+-------+------+------+-------------+\n",
      "|              id|        comment_text|toxic|severe_toxic|obscene|threat|insult|identity_hate|\n",
      "+----------------+--------------------+-----+------------+-------+------+------+-------------+\n",
      "|0000997932d777bf|Explanation Why t...|    0|           0|      0|     0|     0|            0|\n",
      "|000103f0d9cfb60f|D'aww! He matches...|    0|           0|      0|     0|     0|            0|\n",
      "|000113f07ec002fd|Hey man  I'm real...|    0|           0|      0|     0|     0|            0|\n",
      "+----------------+--------------------+-----+------------+-------+------+------+-------------+\n",
      "only showing top 3 rows\n",
      "\n"
     ]
    }
   ],
   "source": [
    "df.show(3)"
   ]
  },
  {
   "cell_type": "code",
   "execution_count": 7,
   "metadata": {},
   "outputs": [],
   "source": [
    "label_columns = ['toxic','severe_toxic','obscene','threat','insult','identity_hate']"
   ]
  },
  {
   "cell_type": "code",
   "execution_count": 8,
   "metadata": {},
   "outputs": [],
   "source": [
    "# Число признаков. К сожалению не удалось взять большое число признаков, так например \n",
    "# уже для 400 признаков вылезала ошибка memory_out\n",
    "NUMFEATURES_1 = 50\n",
    "NUMFEATURES_2 = 100\n",
    "NUMFEATURES_3 = 200\n",
    "NUMFEATURES_4 = 300"
   ]
  },
  {
   "cell_type": "code",
   "execution_count": 9,
   "metadata": {},
   "outputs": [],
   "source": [
    "from pyspark.sql.functions import col\n",
    "from pyspark.sql.types import IntegerType\n",
    "from pyspark.ml import Pipeline\n",
    "from pyspark.ml.classification import LogisticRegression\n",
    "from pyspark.ml.evaluation import BinaryClassificationEvaluator\n",
    "from pyspark.ml.feature import *\n",
    "\n",
    "import numpy as np\n",
    "import matplotlib.pyplot as plt\n",
    "plt.style.use(\"dark_background\")"
   ]
  },
  {
   "cell_type": "code",
   "execution_count": 10,
   "metadata": {},
   "outputs": [],
   "source": [
    "def get_features(df_train, df_test, num_featrues, min_count=3, w2v = False):\n",
    "    \"\"\"Возвращает трейновый и тестовый датасет с признаками\"\"\"\n",
    "    \n",
    "    regexTokenizer = RegexTokenizer(inputCol=\"comment_text\", outputCol=\"words\", pattern=\"\\\\W\")\n",
    "    eng_stopwords = StopWordsRemover.loadDefaultStopWords(\"english\")\n",
    "    stopwordsRemover = StopWordsRemover(inputCol=\"words\", outputCol=\"filtered\").setStopWords(eng_stopwords)\n",
    "    # hashingTF, IDF\n",
    "    hashingTF = HashingTF(inputCol=\"filtered\", outputCol=\"rawFeatures\", numFeatures=num_featrues)\n",
    "    idf = IDF(inputCol=\"rawFeatures\", outputCol=\"features\", minDocFreq=min_count)\n",
    "    \n",
    "    # word_to_vec\n",
    "    w2v = Word2Vec(vectorSize=num_featrues, minCount=min_count, inputCol=\"filtered\", outputCol=\"features\")\n",
    "    \n",
    "    if w2v:\n",
    "        pipeline = Pipeline(stages=[regexTokenizer, stopwordsRemover, w2v])\n",
    "    else:\n",
    "        pipeline = Pipeline(stages=[regexTokenizer, stopwordsRemover, hashingTF, idf])\n",
    "    \n",
    "    pipelineFit = pipeline.fit(df_train)\n",
    "    \n",
    "    train_dataset = pipelineFit.transform(df_train)\n",
    "    test_dataset = pipelineFit.transform(df_test)\n",
    "    train_dataset = train_dataset.select([\"features\"] + label_columns)\n",
    "    test_dataset = test_dataset.select([\"features\"] + label_columns)\n",
    "    return train_dataset, test_dataset"
   ]
  },
  {
   "cell_type": "code",
   "execution_count": 11,
   "metadata": {},
   "outputs": [],
   "source": [
    "class LabelModel:\n",
    "      \n",
    "    def __init__(self, \n",
    "                 label, \n",
    "                 train_dataset,\n",
    "                 test_dataset, \n",
    "                 max_iter=20, \n",
    "                 regParam=0.01, \n",
    "                 elasticNetParam=0):\n",
    "        \n",
    "        self.label = label\n",
    "        self.train_dataset = train_dataset.select(col('features').alias('features'), \n",
    "                                                  col(label).alias(\"label\"))\n",
    "        \n",
    "        self.test_dataset = test_dataset.select(col('features').alias('features'), \n",
    "                                                col(label).alias(\"label\"))\n",
    "        \n",
    "        self.model = LogisticRegression(maxIter=max_iter, \n",
    "                                        regParam=regParam, \n",
    "                                        elasticNetParam=elasticNetParam)\n",
    "        \n",
    "        \n",
    "        self.evaluator = BinaryClassificationEvaluator(labelCol=\"label\", \n",
    "                                                       rawPredictionCol=\"prediction\", \n",
    "                                                       metricName='areaUnderROC')\n",
    "        self.predictions = None\n",
    "          \n",
    "    def change_label_type(self, df):\n",
    "        return df.withColumn(\"label\", df[\"label\"].cast(IntegerType()))\n",
    "    \n",
    "    \n",
    "    def fit_model(self):\n",
    "        self.train_dataset = self.change_label_type(self.train_dataset)\n",
    "        self.model = self.model.fit(self.train_dataset)\n",
    "           \n",
    "    def evaluate_model(self):\n",
    "        self.test_dataset = self.change_label_type(self.test_dataset)\n",
    "        self.predictions = self.model.transform(self.test_dataset)\n",
    "        return self.evaluator.evaluate(self.predictions)"
   ]
  },
  {
   "cell_type": "code",
   "execution_count": 13,
   "metadata": {},
   "outputs": [],
   "source": [
    "def get_results(num_features=NUMFEATURES_1, w2v = False):\n",
    "    \"\"\"Возвращает dict: {label: score_for_label_model}\"\"\"\n",
    "    train_dataset, test_dataset = get_features(df_train=df_train,\n",
    "                                               df_test = df_test,\n",
    "                                               num_featrues=num_features, \n",
    "                                               w2v = w2v)  \n",
    "    models_dict = {label: LabelModel(label, train_dataset, test_dataset) for label in label_columns}\n",
    "    result = {}\n",
    "    for label, model in models_dict.items():\n",
    "        model.fit_model()\n",
    "        result[label] = model.evaluate_model()\n",
    "    return result"
   ]
  },
  {
   "cell_type": "code",
   "execution_count": 14,
   "metadata": {},
   "outputs": [],
   "source": [
    "# Делим данные на трейн и тест\n",
    "df_train, df_test = df.randomSplit([0.7, 0.3])"
   ]
  },
  {
   "cell_type": "markdown",
   "metadata": {},
   "source": [
    "### HashingTF, IDF"
   ]
  },
  {
   "cell_type": "code",
   "execution_count": null,
   "metadata": {},
   "outputs": [],
   "source": [
    "tfidf_result_1 = get_results(NUMFEATURES_1)\n",
    "tfidf_result_2 = get_results(NUMFEATURES_2)\n",
    "tfidf_result_3 = get_results(NUMFEATURES_3)\n",
    "tfidf_result_4 = get_results(NUMFEATURES_4)"
   ]
  },
  {
   "cell_type": "code",
   "execution_count": 28,
   "metadata": {},
   "outputs": [],
   "source": [
    "def plot_metrics(data, labels=[\"50\", \"100\", \"200\", \"300\"]):\n",
    "    X = np.arange(6)\n",
    "    fig = plt.figure(figsize=(14, 7))\n",
    "    ax = fig.add_axes([0,0,1,1])\n",
    "    ax.bar(X + 0.00, data[0].values(), color = 'b', width = 0.25)\n",
    "    ax.bar(X + 0.20, data[1].values(), color = 'c', width = 0.25)\n",
    "    ax.bar(X + 0.40, data[2].values(), color = 'g', width = 0.25)\n",
    "    ax.bar(X + 0.60, data[3].values(), color = 'r', width = 0.25)\n",
    "    ax.set_ylabel('roc_AUC', fontsize=14)\n",
    "    ax.set_xlabel('Labels', fontsize=14)\n",
    "    plt.title(\"Metrics\", fontsize=18)\n",
    "    ax.legend(labels=labels)\n",
    "    ax.grid()"
   ]
  },
  {
   "cell_type": "code",
   "execution_count": 29,
   "metadata": {},
   "outputs": [
    {
     "data": {
      "image/png": "[encoded data removed]",
      "text/plain": [
       "<Figure size 1008x504 with 1 Axes>"
      ]
     },
     "metadata": {},
     "output_type": "display_data"
    }
   ],
   "source": [
    "all_results_lst = [tfidf_result_1, tfidf_result_2, tfidf_result_3, tfidf_result_4]\n",
    "plot_metrics(all_results_lst)"
   ]
  },
  {
   "cell_type": "markdown",
   "metadata": {},
   "source": [
    "Как видно с ростом числа признаков в среднем результат растет, хотя и немного."
   ]
  },
  {
   "cell_type": "markdown",
   "metadata": {},
   "source": [
    "### Word2Vec"
   ]
  },
  {
   "cell_type": "code",
   "execution_count": null,
   "metadata": {},
   "outputs": [],
   "source": [
    "w2v_result_1 = get_results(NUMFEATURES_1, w2v=True)\n",
    "w2v_result_2 = get_results(NUMFEATURES_2, w2v=True)\n",
    "w2v_result_3 = get_results(NUMFEATURES_3, w2v=True)\n",
    "w2v_result_4 = get_results(NUMFEATURES_4, w2v=True)"
   ]
  },
  {
   "cell_type": "code",
   "execution_count": 30,
   "metadata": {},
   "outputs": [
    {
     "data": {
      "image/png": "[encoded data removed]",
      "text/plain": [
       "<Figure size 1008x504 with 1 Axes>"
      ]
     },
     "metadata": {},
     "output_type": "display_data"
    }
   ],
   "source": [
    "all_results_lst_w2v = [w2v_result_1, w2v_result_2, w2v_result_3, w2v_result_4]\n",
    "plot_metrics(all_results_lst_w2v)"
   ]
  },
  {
   "cell_type": "markdown",
   "metadata": {},
   "source": [
    "Видно, что в среднем результаты практически не отличаются от предыддущего подхода. Может быть это связано с тем, что число признаков не очень большое "
   ]
  },
  {
   "cell_type": "code",
   "execution_count": 34,
   "metadata": {},
   "outputs": [],
   "source": [
    "sc.stop()"
   ]
  },
  {
   "cell_type": "code",
   "execution_count": null,
   "metadata": {},
   "outputs": [],
   "source": []
  }
 ],
 "metadata": {
  "kernelspec": {
   "display_name": "Python 3",
   "language": "python",
   "name": "python3"
  },
  "language_info": {
   "codemirror_mode": {
    "name": "ipython",
    "version": 3
   },
   "file_extension": ".py",
   "mimetype": "text/x-python",
   "name": "python",
   "nbconvert_exporter": "python",
   "pygments_lexer": "ipython3",
   "version": "3.8.5"
  }
 },
 "nbformat": 4,
 "nbformat_minor": 4
}
